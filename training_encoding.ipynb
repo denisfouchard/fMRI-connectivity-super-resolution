{
 "cells": [
  {
   "cell_type": "code",
   "id": "initial_id",
   "metadata": {
    "collapsed": true,
    "ExecuteTime": {
     "end_time": "2025-03-01T22:59:16.999126Z",
     "start_time": "2025-03-01T22:59:11.448830Z"
    }
   },
   "source": [
    "import os\n",
    "# os.environ[\"CUDA_VISIBLE_DEVICES\"] = \"2\" \n",
    "\n",
    "\n",
    "import torch_geometric\n",
    "import matplotlib.pyplot as plt\n",
    "import numpy as np\n",
    "import torch\n",
    "import torch.nn as nn\n",
    "import pandas as pd\n",
    "import torch.nn.functional as F\n",
    "from torch_geometric.nn import GCNConv, TopKPooling, global_mean_pool, GraphUNet\n",
    "from torch_geometric.data import Batch\n",
    "from torch_geometric.utils import to_dense_adj\n",
    "from tqdm import tqdm\n",
    "\n",
    "\n",
    "from utils.data import GraphDataModule, save_prediction\n",
    "from utils.training import train_model\n",
    "from utils.metrics import evaluate_model"
   ],
   "outputs": [],
   "execution_count": 1
  },
  {
   "cell_type": "code",
   "id": "5d3a6ae3",
   "metadata": {
    "ExecuteTime": {
     "end_time": "2025-03-01T22:59:17.022461Z",
     "start_time": "2025-03-01T22:59:17.016016Z"
    }
   },
   "source": [
    "device = torch.device(\"cuda\" if torch.cuda.is_available() else \"cpu\")\n",
    "print(f\"Using device: {device}\")"
   ],
   "outputs": [
    {
     "name": "stdout",
     "output_type": "stream",
     "text": [
      "Using device: cpu\n"
     ]
    }
   ],
   "execution_count": 2
  },
  {
   "cell_type": "code",
   "id": "e34fa3e9ebc9bb47",
   "metadata": {
    "ExecuteTime": {
     "end_time": "2025-03-01T22:59:23.923407Z",
     "start_time": "2025-03-01T22:59:18.509563Z"
    }
   },
   "source": [
    "data_module = GraphDataModule(\"./data\", num_workers=1)\n",
    "train_loader = data_module.train_dataloader()\n",
    "val_loader = data_module.val_dataloader()"
   ],
   "outputs": [
    {
     "name": "stdout",
     "output_type": "stream",
     "text": [
      "Time taken to load ./data\\hr_train.csv: 3.77698016166687 seconds\n",
      "Time taken to load ./data\\lr_train.csv: 0.6752758026123047 seconds\n",
      "Time taken to load ./data\\lr_test.csv: 0.39960789680480957 seconds\n"
     ]
    },
    {
     "name": "stderr",
     "output_type": "stream",
     "text": [
      "Converting vectors to graphs: 100%|██████████| 133/133 [00:00<00:00, 415.71it/s]\n",
      "Converting vectors to graphs: 100%|██████████| 34/34 [00:00<00:00, 459.12it/s]\n",
      "Converting vectors to graphs: 100%|██████████| 112/112 [00:00<00:00, 1171.93it/s]\n"
     ]
    }
   ],
   "execution_count": 3
  },
  {
   "cell_type": "code",
   "id": "334b874b7023c51b",
   "metadata": {},
   "source": [
    "class UpscalerGNN(nn.Module):\n",
    "    def __init__(self, hidden_nodes, n_layers):\n",
    "        super().__init__()\n",
    "        self.input_nodes = 160\n",
    "        self.output_nodes = 268\n",
    "        \n",
    "        self.layer1 = nn.Linear(self.input_nodes, hidden_nodes)\n",
    "        self.gcn1 = GCNConv(hidden_nodes, hidden_nodes)\n",
    "        \n",
    "        self.layer2 = nn.Linear(self.output_nodes-self.input_nodes, hidden_nodes)\n",
    "        \n",
    "\n",
    "\n",
    "    @property\n",
    "    def device(self):\n",
    "        return next(self.parameters()).device\n",
    "\n",
    "    def forward(self, samples: Batch):\n",
    "        batch_size = samples.batch_size\n",
    "        X1 = self.layer1(samples.x)\n",
    "        X2 = self.gcn1(X1, )\n",
    "                \n",
    "        X2 = torch.eye(self.output_nodes-self.input_nodes).to(self.device)\n",
    "        X2 = self.layer2(X2)\n",
    "        \n",
    "        \n",
    "        \n",
    "        \n",
    "\n",
    "        # Initialize output matrix batch\n",
    "        matrix = torch.zeros((batch_size, self.num_nodes_output, self.num_nodes_output), device=x.device)\n",
    "\n",
    "        # Create mask for upper triangular part\n",
    "        mask = torch.triu(torch.ones(self.num_nodes_output, self.num_nodes_output)).bool().to(x.device)\n",
    "\n",
    "        # Fill upper triangular part\n",
    "        matrix[:, mask] = x\n",
    "\n",
    "        # Mirror upper triangular to lower triangular (make symmetric)\n",
    "        matrix = matrix + matrix.transpose(1, 2) - torch.diag_embed(torch.diagonal(matrix, dim1=1, dim2=2))\n",
    "\n",
    "        return matrix\n"
   ],
   "outputs": [],
   "execution_count": null
  },
  {
   "cell_type": "code",
   "id": "f5c15b0f",
   "metadata": {
    "ExecuteTime": {
     "end_time": "2025-03-01T23:00:42.368713Z",
     "start_time": "2025-03-01T23:00:42.307452Z"
    }
   },
   "source": [
    "batch,target_batch = next(iter(train_loader))\n",
    "input_dim = batch[0].x.shape[0]\n",
    "output_dim = target_batch[0].x.shape[0]\n",
    "print(input_dim,output_dim)"
   ],
   "outputs": [
    {
     "name": "stdout",
     "output_type": "stream",
     "text": [
      "160 268\n"
     ]
    }
   ],
   "execution_count": 4
  },
  {
   "cell_type": "code",
   "id": "e6cd7ae3",
   "metadata": {},
   "source": [
    "model = SuperResMLP(input_dim, output_dim, num_hidden_nodes=(input_dim+output_dim)//2, n_layers=1).to(device)"
   ],
   "outputs": [],
   "execution_count": null
  },
  {
   "cell_type": "code",
   "id": "60478db46877fe03",
   "metadata": {},
   "source": [
    "criterion = nn.MSELoss()\n",
    "\n",
    "train_loss_history, val_loss_history, lr_history, best_model_state_dict = train_model(\n",
    "    model=model, \n",
    "    train_dataloader=train_loader, \n",
    "    val_dataloader=val_loader,\n",
    "    criterion=criterion,\n",
    "    num_epochs=100,\n",
    ")"
   ],
   "outputs": [],
   "execution_count": null
  },
  {
   "cell_type": "code",
   "id": "96cfee88",
   "metadata": {},
   "source": [
    "model.load_state_dict(best_model_state_dict)\n",
    "loss = evaluate_model(model, val_loader)\n",
    "print(loss)\n",
    "\n",
    "torch.save(model, 'model.pth')"
   ],
   "outputs": [],
   "execution_count": null
  },
  {
   "cell_type": "code",
   "id": "1c22f927",
   "metadata": {},
   "source": [
    "model = torch.load(\"model.pth\", weights_only=False)"
   ],
   "outputs": [],
   "execution_count": null
  },
  {
   "metadata": {},
   "cell_type": "code",
   "source": "test_dataloader = data_module.test_dataloader()",
   "id": "914e84d0f1dba99d",
   "outputs": [],
   "execution_count": null
  },
  {
   "metadata": {},
   "cell_type": "code",
   "source": [
    "submission_file = \"outputs/test/submission.csv\"\n",
    "save_prediction(model, test_dataloader, submission_file)"
   ],
   "id": "f14c7a044c71f324",
   "outputs": [],
   "execution_count": null
  },
  {
   "metadata": {},
   "cell_type": "code",
   "source": "df = pd.read_csv(submission_file)",
   "id": "5e7f2efd30d9c81",
   "outputs": [],
   "execution_count": null
  },
  {
   "metadata": {},
   "cell_type": "code",
   "source": "!kaggle competitions submit -c dgl-2025-brain-graph-super-resolution-challenge -f outputs/test/submission.csv -m \"test\"\n",
   "id": "dab8416213942339",
   "outputs": [],
   "execution_count": null
  }
 ],
 "metadata": {
  "kernelspec": {
   "display_name": ".venv",
   "language": "python",
   "name": "python3"
  },
  "language_info": {
   "codemirror_mode": {
    "name": "ipython",
    "version": 3
   },
   "file_extension": ".py",
   "mimetype": "text/x-python",
   "name": "python",
   "nbconvert_exporter": "python",
   "pygments_lexer": "ipython3",
   "version": "3.12.3"
  }
 },
 "nbformat": 4,
 "nbformat_minor": 5
}
