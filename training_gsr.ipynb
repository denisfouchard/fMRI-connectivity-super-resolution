{
 "cells": [
  {
   "cell_type": "markdown",
   "metadata": {},
   "source": [
    "## Import and setup"
   ]
  },
  {
   "cell_type": "code",
   "metadata": {},
   "source": [
    "import torch\n",
    "device = torch.device(\"cuda\" if torch.cuda.is_available() else \"cpu\")\n",
    "print(f\"Using device: {device}\")"
   ],
   "outputs": [],
   "execution_count": null
  },
  {
   "cell_type": "code",
   "metadata": {},
   "source": [
    "import torch\n",
    "import numpy as np\n",
    "import pandas as pd\n",
    "import torch.optim as optim\n",
    "from utils.preprocessing import *\n",
    "from models.gsr_model import GSRNet\n",
    "from utils.gsr_train import train, test\n",
    "from models.ops import GraphUnet\n"
   ],
   "outputs": [],
   "execution_count": null
  },
  {
   "cell_type": "markdown",
   "metadata": {},
   "source": [
    "## Define model and hyperparameters"
   ]
  },
  {
   "cell_type": "code",
   "metadata": {},
   "source": [
    "device = torch.device(\"cuda\" if torch.cuda.is_available() else \"cpu\")\n",
    "\n",
    "# Define model arguments\n",
    "class Args:\n",
    "    epochs = 200\n",
    "    lr = 0.0001\n",
    "    splits = 5\n",
    "    lmbda = 16\n",
    "    lr_dim = 160\n",
    "    hr_dim = 268  # Adapted for dataset\n",
    "    hidden_dim = 268\n",
    "    padding = 0  # No padding\n",
    "\n",
    "args = Args()\n",
    "\n",
    "# Load dataset\n",
    "subjects_adj, subjects_labels, test_adj = data()\n",
    "\n",
    "# Cross-validation split\n",
    "from sklearn.model_selection import KFold\n",
    "cv = KFold(n_splits=args.splits, shuffle=True, random_state=42)\n",
    "\n",
    "ks = [0.9, 0.7, 0.6, 0.5]  # Pooling rates\n",
    "model = GSRNet(ks, args).to(device)\n",
    "optimizer = optim.Adam(model.parameters(), lr=args.lr)\n"
   ],
   "outputs": [],
   "execution_count": null
  },
  {
   "cell_type": "markdown",
   "metadata": {},
   "source": [
    "## Train and save model"
   ]
  },
  {
   "cell_type": "code",
   "metadata": {},
   "source": [
    "for train_index, test_index in cv.split(subjects_adj):\n",
    "    train_adj, val_adj = subjects_adj[train_index], subjects_adj[test_index]\n",
    "    train_labels, val_labels = subjects_labels[train_index], subjects_labels[test_index]\n",
    "\n",
    "    train(model, optimizer, train_adj, train_labels, args)\n",
    "    test(model, val_adj, val_labels, args)\n",
    "\n",
    "# Save trained model\n",
    "torch.save(model.state_dict(), \"gsr_net_trained.pth\")\n",
    "print(\"Model saved!\")\n"
   ],
   "outputs": [],
   "execution_count": null
  },
  {
   "cell_type": "code",
   "metadata": {},
   "source": [
    "# Load trained model\n",
    "model.load_state_dict(torch.load(\"gsr_net_trained.pth\"))\n",
    "model.eval()  # Ensure evaluation mode\n",
    "\n",
    "# Generate predictions\n",
    "preds_list = []\n",
    "for lr in test_adj:\n",
    "    lr = torch.from_numpy(lr).float().to(device)\n",
    "    with torch.no_grad():  # Disable gradient computation\n",
    "        preds, _, _, _ = model(lr)  # Get predictions\n",
    "    preds_list.append(preds.detach().cpu().numpy())  # Convert to NumPy\n",
    "\n",
    "# Extract only upper triangular part (excluding diagonal)\n",
    "def upper_triangular_flatten(matrix):\n",
    "    return matrix[np.triu_indices(268, k=1)]  # k=1 excludes diagonal\n",
    "\n",
    "# Apply upper triangular flattening to all predictions\n",
    "preds_list = [upper_triangular_flatten(pred) for pred in preds_list]\n",
    "\n",
    "# Create DataFrame\n",
    "submission_df = pd.DataFrame({\n",
    "    \"ID\": np.arange(1, len(np.concatenate(preds_list)) + 1),  # Sequential IDs\n",
    "    \"Predicted\": np.concatenate(preds_list)  # Flattened predictions\n",
    "})\n",
    "\n",
    "# Save CSV\n",
    "submission_df.to_csv(\"submission.csv\", index=False)\n",
    "print(\"Submission file created!\")\n"
   ],
   "outputs": [],
   "execution_count": null
  },
  {
   "cell_type": "markdown",
   "metadata": {},
   "source": [
    "## Submit to kaggle"
   ]
  },
  {
   "cell_type": "code",
   "metadata": {},
   "source": [
    "!kaggle competitions submit -c dgl-2025-brain-graph-super-resolution-challenge -f submission.csv -m \"GSR-Net submission\""
   ],
   "outputs": [],
   "execution_count": null
  }
 ],
 "metadata": {
  "kernelspec": {
   "display_name": "myenv",
   "language": "python",
   "name": "python3"
  },
  "language_info": {
   "codemirror_mode": {
    "name": "ipython",
    "version": 3
   },
   "file_extension": ".py",
   "mimetype": "text/x-python",
   "name": "python",
   "nbconvert_exporter": "python",
   "pygments_lexer": "ipython3",
   "version": "3.12.3"
  }
 },
 "nbformat": 4,
 "nbformat_minor": 2
}
