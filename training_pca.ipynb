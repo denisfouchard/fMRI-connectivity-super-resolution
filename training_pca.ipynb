{
 "cells": [
  {
   "cell_type": "code",
   "execution_count": 2,
   "id": "initial_id",
   "metadata": {
    "ExecuteTime": {
     "end_time": "2025-03-02T00:06:48.775872Z",
     "start_time": "2025-03-02T00:06:45.364490Z"
    },
    "collapsed": true
   },
   "outputs": [],
   "source": [
    "import os\n",
    "os.environ[\"CUDA_VISIBLE_DEVICES\"] = \"2\" \n",
    "\n",
    "\n",
    "import torch_geometric\n",
    "import matplotlib.pyplot as plt\n",
    "import numpy as np\n",
    "import torch\n",
    "import torch.nn as nn\n",
    "import pandas as pd\n",
    "import torch.nn.functional as F\n",
    "from torch_geometric.nn import GCNConv, TopKPooling, global_mean_pool, GraphUNet\n",
    "from torch_geometric.data import Batch\n",
    "from torch_geometric.utils import to_dense_adj\n",
    "from tqdm import tqdm\n",
    "\n",
    "\n",
    "from utils.data import GraphDataModule, save_prediction\n",
    "from utils.training import train_model\n",
    "from utils.metrics import evaluate_model"
   ]
  },
  {
   "cell_type": "code",
   "execution_count": 3,
   "id": "5d3a6ae3",
   "metadata": {
    "ExecuteTime": {
     "end_time": "2025-03-02T00:07:13.123356Z",
     "start_time": "2025-03-02T00:07:13.109763Z"
    }
   },
   "outputs": [
    {
     "name": "stdout",
     "output_type": "stream",
     "text": [
      "Using device: cuda\n"
     ]
    }
   ],
   "source": [
    "device = torch.device(\"cuda\" if torch.cuda.is_available() else \"cpu\")\n",
    "print(f\"Using device: {device}\")"
   ]
  },
  {
   "cell_type": "code",
   "execution_count": 4,
   "id": "e34fa3e9ebc9bb47",
   "metadata": {
    "ExecuteTime": {
     "end_time": "2025-03-02T00:07:20.093551Z",
     "start_time": "2025-03-02T00:07:15.538182Z"
    }
   },
   "outputs": [
    {
     "name": "stdout",
     "output_type": "stream",
     "text": [
      "Time taken to load ./data/hr_train.csv: 3.856825590133667 seconds\n",
      "Time taken to load ./data/lr_train.csv: 0.8724327087402344 seconds\n",
      "Time taken to load ./data/lr_test.csv: 0.434659481048584 seconds\n"
     ]
    },
    {
     "name": "stderr",
     "output_type": "stream",
     "text": [
      "Converting vectors to graphs: 100%|██████████| 133/133 [00:00<00:00, 257.55it/s]\n",
      "Converting vectors to graphs: 100%|██████████| 34/34 [00:00<00:00, 263.29it/s]\n",
      "Converting vectors to graphs: 100%|██████████| 112/112 [00:00<00:00, 747.29it/s]\n"
     ]
    }
   ],
   "source": [
    "data_module = GraphDataModule(\"./data\", num_workers=1, batch_size=1)\n",
    "train_loader = data_module.train_dataloader()\n",
    "val_loader = data_module.val_dataloader()"
   ]
  },
  {
   "cell_type": "code",
   "execution_count": 5,
   "id": "0a6bd62b",
   "metadata": {},
   "outputs": [],
   "source": [
    "def compute_PCA(batch, n_components=None):\n",
    "    cov_matrix = to_dense_adj(batch.edge_index, edge_attr=batch.edge_attr, batch=batch.batch)\n",
    "    eigenvalues, eigenvectors = torch.linalg.eigh(cov_matrix)\n",
    "    \n",
    "    return {\n",
    "        'eigenvalues': eigenvalues.squeeze(),\n",
    "        'eigenvectors': eigenvectors.squeeze()\n",
    "    }"
   ]
  },
  {
   "cell_type": "code",
   "execution_count": 6,
   "id": "f5c15b0f",
   "metadata": {
    "ExecuteTime": {
     "end_time": "2025-03-02T00:26:48.537483Z",
     "start_time": "2025-03-02T00:26:48.530222Z"
    }
   },
   "outputs": [
    {
     "name": "stdout",
     "output_type": "stream",
     "text": [
      "1 160 268\n"
     ]
    }
   ],
   "source": [
    "batch,target_batch = next(iter(train_loader))\n",
    "input_dim = batch[0].x.shape[0]\n",
    "output_dim = target_batch[0].x.shape[0]\n",
    "input_features = batch[0].x.shape[1]\n",
    "print(input_features,input_dim,output_dim)"
   ]
  },
  {
   "cell_type": "code",
   "execution_count": 7,
   "id": "723a6969",
   "metadata": {},
   "outputs": [],
   "source": [
    "def compute_list_features(batch_list,ncomp):\n",
    "    A_list = [\n",
    "        to_dense_adj(batch.edge_index, edge_attr=batch.edge_attr, batch=batch.batch)\n",
    "        for batch in batch_list\n",
    "    ]\n",
    "    A = torch.zeros_like(A_list[0])\n",
    "    for a in A_list: A += a\n",
    "    \n",
    "    eigenvalues, eigenvectors = torch.linalg.eigh(A)\n",
    "    \n",
    "    eigenvalues = eigenvalues.squeeze()\n",
    "    eigenvectors = eigenvectors.squeeze()\n",
    "    # Get indices of top ncomp largest absolute eigenvalues\n",
    "    _, top_indices = torch.topk(eigenvalues.abs(), k=ncomp)\n",
    "    Q = eigenvectors[:,top_indices]\n",
    "\n",
    "    return Q\n"
   ]
  },
  {
   "cell_type": "code",
   "execution_count": 8,
   "id": "06bcae19",
   "metadata": {},
   "outputs": [],
   "source": [
    "def project_adj(batch, Q):\n",
    "    A = to_dense_adj(batch.edge_index, edge_attr=batch.edge_attr, batch=batch.batch).squeeze()\n",
    "    C = (Q.t() @ A @ Q).to(torch.cfloat)\n",
    "    C = torch.diag(torch.diag(C))\n",
    "    C = C ** (1/2)\n",
    "    return Q.to(torch.cfloat) @ C"
   ]
  },
  {
   "cell_type": "code",
   "execution_count": 9,
   "id": "c819d447",
   "metadata": {},
   "outputs": [],
   "source": [
    "def compute_features(batch, ncomp):\n",
    "    pca_batch = compute_PCA(batch)\n",
    "    \n",
    "    # Get absolute eigenvalues and sort them in descending order\n",
    "    abs_eigenvalues = pca_batch[\"eigenvalues\"].abs()\n",
    "    \n",
    "    # Get indices of top ncomp largest absolute eigenvalues\n",
    "    _, top_indices = torch.topk(abs_eigenvalues, k=ncomp)\n",
    "    \n",
    "    # Select eigenvectors and eigenvalues corresponding to top ncomp\n",
    "    Q = pca_batch[\"eigenvectors\"][:,top_indices].to(torch.cfloat)\n",
    "    D = torch.diag(pca_batch[\"eigenvalues\"]).to(torch.cfloat)\n",
    "    D2 = D ** (1/2)\n",
    "    D2 = D2[:,top_indices][top_indices,:]\n",
    "    Q2 = Q @ D2\n",
    "    \n",
    "    return Q2, Q"
   ]
  },
  {
   "cell_type": "code",
   "execution_count": 14,
   "id": "89891333",
   "metadata": {},
   "outputs": [
    {
     "data": {
      "text/plain": [
       "np.float64(0.12389832756975118)"
      ]
     },
     "execution_count": 14,
     "metadata": {},
     "output_type": "execute_result"
    }
   ],
   "source": [
    "batch_list = [batch for batch,_ in iter(train_loader)]\n",
    "target_list = [batch for _,batch in iter(train_loader)]\n",
    "Q1 = compute_list_features(batch_list, 128)\n",
    "Q2 = compute_list_features(target_list, 256)\n",
    "\n",
    "mean_list = []\n",
    "for batch,_ in val_loader:\n",
    "    Q0 = project_adj(batch, Q1)\n",
    "\n",
    "    cov_hat = (Q0 @ Q0.t()).to(torch.float)\n",
    "    cov = to_dense_adj(batch.edge_index, edge_attr=batch.edge_attr, batch=batch.batch).squeeze()\n",
    "\n",
    "    mean_list.append(torch.mean((cov_hat-cov).abs()).item())\n",
    "\n",
    "np.mean(mean_list)\n"
   ]
  },
  {
   "cell_type": "code",
   "execution_count": null,
   "id": "f60c5958",
   "metadata": {},
   "outputs": [],
   "source": [
    "from torch.nn import Linear, BatchNorm1d, Dropout, TransformerEncoder, TransformerEncoderLayer\n",
    "from torch_geometric.nn import GATConv, GCNConv, GINConv, global_add_pool\n",
    "\n",
    "\n",
    "\n",
    "\n",
    "class UpscalerGNN(nn.Module):\n",
    "    def __init__(self, hidden_size, hidden_layers, Q1,Q2):\n",
    "        super().__init__()\n",
    "        self.Q1 = Q1\n",
    "        self.Q2 = Q2\n",
    "        self.input_nodes = 160\n",
    "        self.output_nodes = 268\n",
    "        \n",
    "\n",
    "        self.layers = nn.ModuleList()\n",
    "        self.layers.append(\n",
    "            nn.Sequential(\n",
    "                nn.Linear(in_features=128, out_features=hidden_size),\n",
    "                nn.BatchNorm1d(num_features=hidden_size),\n",
    "                nn.Dropout(p=0.1),\n",
    "                nn.LeakyReLU()\n",
    "            )\n",
    "        )\n",
    "\n",
    "        for _ in range(hidden_layers):\n",
    "            self.layers.append(\n",
    "                nn.Sequential(\n",
    "                    nn.Linear(in_features=hidden_size, out_features=hidden_size),\n",
    "                    nn.BatchNorm1d(num_features=hidden_size),\n",
    "                    nn.Dropout(p=0.1),\n",
    "                    nn.LeakyReLU()\n",
    "                )\n",
    "            )\n",
    "\n",
    "        self.layers.append(\n",
    "            nn.Sequential(\n",
    "                nn.Linear(in_features=hidden_size, out_features=256),\n",
    "                nn.BatchNorm1d(num_features=hidden_size),\n",
    "                nn.Dropout(p=0.1),\n",
    "                nn.LeakyReLU()\n",
    "            )\n",
    "        )\n",
    "        \n",
    "        \n",
    "\n",
    "    @property\n",
    "    def device(self):\n",
    "        return next(self.parameters()).device\n",
    "\n",
    "    def forward(self, samples: Batch): \n",
    "        A = to_dense_adj(batch.edge_index, edge_attr=batch.edge_attr, batch=batch.batch).squeeze().to(self.device)\n",
    "        C = self.Q1.t() @ A @ self.Q1\n",
    "        C = C.squeeze()\n",
    "        C = torch.diag(C).unsqueeze(0)\n",
    "\n",
    "        for layer in self.layers:\n",
    "            C = layer(C)\n",
    "\n",
    "        C = torch.diag(C.squeeze())\n",
    "        return self.Q2 @ C @ self.Q2.t()\n"
   ]
  },
  {
   "cell_type": "code",
   "execution_count": 29,
   "id": "e6cd7ae3",
   "metadata": {
    "ExecuteTime": {
     "end_time": "2025-03-02T00:26:49.520888Z",
     "start_time": "2025-03-02T00:26:49.507098Z"
    }
   },
   "outputs": [],
   "source": [
    "model = UpscalerGNN(\n",
    "    hidden_size=256, \n",
    "    hidden_layers=1,\n",
    "    Q1=Q1.to(device),\n",
    "    Q2=Q2.to(device)\n",
    ").to(device)"
   ]
  },
  {
   "cell_type": "code",
   "execution_count": 30,
   "id": "60478db46877fe03",
   "metadata": {
    "ExecuteTime": {
     "end_time": "2025-03-02T00:27:12.555892200Z",
     "start_time": "2025-03-02T00:26:51.150648Z"
    }
   },
   "outputs": [
    {
     "name": "stderr",
     "output_type": "stream",
     "text": [
      "  0%|          | 0/100 [00:00<?, ?it/s]\n"
     ]
    },
    {
     "ename": "ValueError",
     "evalue": "expected 2D or 3D input (got 1D input)",
     "output_type": "error",
     "traceback": [
      "\u001b[0;31m---------------------------------------------------------------------------\u001b[0m",
      "\u001b[0;31mValueError\u001b[0m                                Traceback (most recent call last)",
      "Cell \u001b[0;32mIn[30], line 3\u001b[0m\n\u001b[1;32m      1\u001b[0m criterion \u001b[38;5;241m=\u001b[39m nn\u001b[38;5;241m.\u001b[39mL1Loss()\n\u001b[0;32m----> 3\u001b[0m train_loss_history, val_loss_history, lr_history, best_model_state_dict \u001b[38;5;241m=\u001b[39m \u001b[43mtrain_model\u001b[49m\u001b[43m(\u001b[49m\n\u001b[1;32m      4\u001b[0m \u001b[43m    \u001b[49m\u001b[43mmodel\u001b[49m\u001b[38;5;241;43m=\u001b[39;49m\u001b[43mmodel\u001b[49m\u001b[43m,\u001b[49m\u001b[43m \u001b[49m\n\u001b[1;32m      5\u001b[0m \u001b[43m    \u001b[49m\u001b[43mtrain_dataloader\u001b[49m\u001b[38;5;241;43m=\u001b[39;49m\u001b[43mtrain_loader\u001b[49m\u001b[43m,\u001b[49m\u001b[43m \u001b[49m\n\u001b[1;32m      6\u001b[0m \u001b[43m    \u001b[49m\u001b[43mval_dataloader\u001b[49m\u001b[38;5;241;43m=\u001b[39;49m\u001b[43mval_loader\u001b[49m\u001b[43m,\u001b[49m\n\u001b[1;32m      7\u001b[0m \u001b[43m    \u001b[49m\u001b[43mcriterion\u001b[49m\u001b[38;5;241;43m=\u001b[39;49m\u001b[43mcriterion\u001b[49m\u001b[43m,\u001b[49m\n\u001b[1;32m      8\u001b[0m \u001b[43m    \u001b[49m\u001b[43mnum_epochs\u001b[49m\u001b[38;5;241;43m=\u001b[39;49m\u001b[38;5;241;43m100\u001b[39;49m\u001b[43m,\u001b[49m\n\u001b[1;32m      9\u001b[0m \u001b[43m    \u001b[49m\u001b[43mlr\u001b[49m\u001b[38;5;241;43m=\u001b[39;49m\u001b[38;5;241;43m0.01\u001b[39;49m\n\u001b[1;32m     10\u001b[0m \u001b[43m)\u001b[49m\n",
      "File \u001b[0;32m~/DGL-Group-Project/utils/training.py:92\u001b[0m, in \u001b[0;36mtrain_model\u001b[0;34m(model, train_dataloader, val_dataloader, num_epochs, lr, validate_every, optimizer, lr_scheduler, criterion, skip)\u001b[0m\n\u001b[1;32m     89\u001b[0m optimizer\u001b[38;5;241m.\u001b[39mzero_grad()\n\u001b[1;32m     91\u001b[0m \u001b[38;5;66;03m# Forward pass on training data\u001b[39;00m\n\u001b[0;32m---> 92\u001b[0m outputs \u001b[38;5;241m=\u001b[39m \u001b[43mmodel\u001b[49m\u001b[43m(\u001b[49m\u001b[43mbatch\u001b[49m\u001b[43m)\u001b[49m\n\u001b[1;32m     94\u001b[0m \u001b[38;5;66;03m# Assuming y contains the target adjacency information\u001b[39;00m\n\u001b[1;32m     95\u001b[0m targets \u001b[38;5;241m=\u001b[39m to_dense_adj(target_batch\u001b[38;5;241m.\u001b[39medge_index, edge_attr\u001b[38;5;241m=\u001b[39mtarget_batch\u001b[38;5;241m.\u001b[39medge_attr, batch\u001b[38;5;241m=\u001b[39mtarget_batch\u001b[38;5;241m.\u001b[39mbatch)\n",
      "File \u001b[0;32m~/DGL-Group-Project/.venv/lib/python3.12/site-packages/torch/nn/modules/module.py:1739\u001b[0m, in \u001b[0;36mModule._wrapped_call_impl\u001b[0;34m(self, *args, **kwargs)\u001b[0m\n\u001b[1;32m   1737\u001b[0m     \u001b[38;5;28;01mreturn\u001b[39;00m \u001b[38;5;28mself\u001b[39m\u001b[38;5;241m.\u001b[39m_compiled_call_impl(\u001b[38;5;241m*\u001b[39margs, \u001b[38;5;241m*\u001b[39m\u001b[38;5;241m*\u001b[39mkwargs)  \u001b[38;5;66;03m# type: ignore[misc]\u001b[39;00m\n\u001b[1;32m   1738\u001b[0m \u001b[38;5;28;01melse\u001b[39;00m:\n\u001b[0;32m-> 1739\u001b[0m     \u001b[38;5;28;01mreturn\u001b[39;00m \u001b[38;5;28;43mself\u001b[39;49m\u001b[38;5;241;43m.\u001b[39;49m\u001b[43m_call_impl\u001b[49m\u001b[43m(\u001b[49m\u001b[38;5;241;43m*\u001b[39;49m\u001b[43margs\u001b[49m\u001b[43m,\u001b[49m\u001b[43m \u001b[49m\u001b[38;5;241;43m*\u001b[39;49m\u001b[38;5;241;43m*\u001b[39;49m\u001b[43mkwargs\u001b[49m\u001b[43m)\u001b[49m\n",
      "File \u001b[0;32m~/DGL-Group-Project/.venv/lib/python3.12/site-packages/torch/nn/modules/module.py:1750\u001b[0m, in \u001b[0;36mModule._call_impl\u001b[0;34m(self, *args, **kwargs)\u001b[0m\n\u001b[1;32m   1745\u001b[0m \u001b[38;5;66;03m# If we don't have any hooks, we want to skip the rest of the logic in\u001b[39;00m\n\u001b[1;32m   1746\u001b[0m \u001b[38;5;66;03m# this function, and just call forward.\u001b[39;00m\n\u001b[1;32m   1747\u001b[0m \u001b[38;5;28;01mif\u001b[39;00m \u001b[38;5;129;01mnot\u001b[39;00m (\u001b[38;5;28mself\u001b[39m\u001b[38;5;241m.\u001b[39m_backward_hooks \u001b[38;5;129;01mor\u001b[39;00m \u001b[38;5;28mself\u001b[39m\u001b[38;5;241m.\u001b[39m_backward_pre_hooks \u001b[38;5;129;01mor\u001b[39;00m \u001b[38;5;28mself\u001b[39m\u001b[38;5;241m.\u001b[39m_forward_hooks \u001b[38;5;129;01mor\u001b[39;00m \u001b[38;5;28mself\u001b[39m\u001b[38;5;241m.\u001b[39m_forward_pre_hooks\n\u001b[1;32m   1748\u001b[0m         \u001b[38;5;129;01mor\u001b[39;00m _global_backward_pre_hooks \u001b[38;5;129;01mor\u001b[39;00m _global_backward_hooks\n\u001b[1;32m   1749\u001b[0m         \u001b[38;5;129;01mor\u001b[39;00m _global_forward_hooks \u001b[38;5;129;01mor\u001b[39;00m _global_forward_pre_hooks):\n\u001b[0;32m-> 1750\u001b[0m     \u001b[38;5;28;01mreturn\u001b[39;00m \u001b[43mforward_call\u001b[49m\u001b[43m(\u001b[49m\u001b[38;5;241;43m*\u001b[39;49m\u001b[43margs\u001b[49m\u001b[43m,\u001b[49m\u001b[43m \u001b[49m\u001b[38;5;241;43m*\u001b[39;49m\u001b[38;5;241;43m*\u001b[39;49m\u001b[43mkwargs\u001b[49m\u001b[43m)\u001b[49m\n\u001b[1;32m   1752\u001b[0m result \u001b[38;5;241m=\u001b[39m \u001b[38;5;28;01mNone\u001b[39;00m\n\u001b[1;32m   1753\u001b[0m called_always_called_hooks \u001b[38;5;241m=\u001b[39m \u001b[38;5;28mset\u001b[39m()\n",
      "Cell \u001b[0;32mIn[28], line 58\u001b[0m, in \u001b[0;36mUpscalerGNN.forward\u001b[0;34m(self, samples)\u001b[0m\n\u001b[1;32m     55\u001b[0m C \u001b[38;5;241m=\u001b[39m torch\u001b[38;5;241m.\u001b[39mdiag(C)\n\u001b[1;32m     57\u001b[0m \u001b[38;5;28;01mfor\u001b[39;00m layer \u001b[38;5;129;01min\u001b[39;00m \u001b[38;5;28mself\u001b[39m\u001b[38;5;241m.\u001b[39mlayers:\n\u001b[0;32m---> 58\u001b[0m     C \u001b[38;5;241m=\u001b[39m \u001b[43mlayer\u001b[49m\u001b[43m(\u001b[49m\u001b[43mC\u001b[49m\u001b[43m)\u001b[49m\n\u001b[1;32m     60\u001b[0m C \u001b[38;5;241m=\u001b[39m torch\u001b[38;5;241m.\u001b[39mdiag(C)\n\u001b[1;32m     61\u001b[0m \u001b[38;5;28;01mreturn\u001b[39;00m \u001b[38;5;28mself\u001b[39m\u001b[38;5;241m.\u001b[39mQ2 \u001b[38;5;241m@\u001b[39m C \u001b[38;5;241m@\u001b[39m \u001b[38;5;28mself\u001b[39m\u001b[38;5;241m.\u001b[39mQ2\u001b[38;5;241m.\u001b[39mt()\n",
      "File \u001b[0;32m~/DGL-Group-Project/.venv/lib/python3.12/site-packages/torch/nn/modules/module.py:1739\u001b[0m, in \u001b[0;36mModule._wrapped_call_impl\u001b[0;34m(self, *args, **kwargs)\u001b[0m\n\u001b[1;32m   1737\u001b[0m     \u001b[38;5;28;01mreturn\u001b[39;00m \u001b[38;5;28mself\u001b[39m\u001b[38;5;241m.\u001b[39m_compiled_call_impl(\u001b[38;5;241m*\u001b[39margs, \u001b[38;5;241m*\u001b[39m\u001b[38;5;241m*\u001b[39mkwargs)  \u001b[38;5;66;03m# type: ignore[misc]\u001b[39;00m\n\u001b[1;32m   1738\u001b[0m \u001b[38;5;28;01melse\u001b[39;00m:\n\u001b[0;32m-> 1739\u001b[0m     \u001b[38;5;28;01mreturn\u001b[39;00m \u001b[38;5;28;43mself\u001b[39;49m\u001b[38;5;241;43m.\u001b[39;49m\u001b[43m_call_impl\u001b[49m\u001b[43m(\u001b[49m\u001b[38;5;241;43m*\u001b[39;49m\u001b[43margs\u001b[49m\u001b[43m,\u001b[49m\u001b[43m \u001b[49m\u001b[38;5;241;43m*\u001b[39;49m\u001b[38;5;241;43m*\u001b[39;49m\u001b[43mkwargs\u001b[49m\u001b[43m)\u001b[49m\n",
      "File \u001b[0;32m~/DGL-Group-Project/.venv/lib/python3.12/site-packages/torch/nn/modules/module.py:1750\u001b[0m, in \u001b[0;36mModule._call_impl\u001b[0;34m(self, *args, **kwargs)\u001b[0m\n\u001b[1;32m   1745\u001b[0m \u001b[38;5;66;03m# If we don't have any hooks, we want to skip the rest of the logic in\u001b[39;00m\n\u001b[1;32m   1746\u001b[0m \u001b[38;5;66;03m# this function, and just call forward.\u001b[39;00m\n\u001b[1;32m   1747\u001b[0m \u001b[38;5;28;01mif\u001b[39;00m \u001b[38;5;129;01mnot\u001b[39;00m (\u001b[38;5;28mself\u001b[39m\u001b[38;5;241m.\u001b[39m_backward_hooks \u001b[38;5;129;01mor\u001b[39;00m \u001b[38;5;28mself\u001b[39m\u001b[38;5;241m.\u001b[39m_backward_pre_hooks \u001b[38;5;129;01mor\u001b[39;00m \u001b[38;5;28mself\u001b[39m\u001b[38;5;241m.\u001b[39m_forward_hooks \u001b[38;5;129;01mor\u001b[39;00m \u001b[38;5;28mself\u001b[39m\u001b[38;5;241m.\u001b[39m_forward_pre_hooks\n\u001b[1;32m   1748\u001b[0m         \u001b[38;5;129;01mor\u001b[39;00m _global_backward_pre_hooks \u001b[38;5;129;01mor\u001b[39;00m _global_backward_hooks\n\u001b[1;32m   1749\u001b[0m         \u001b[38;5;129;01mor\u001b[39;00m _global_forward_hooks \u001b[38;5;129;01mor\u001b[39;00m _global_forward_pre_hooks):\n\u001b[0;32m-> 1750\u001b[0m     \u001b[38;5;28;01mreturn\u001b[39;00m \u001b[43mforward_call\u001b[49m\u001b[43m(\u001b[49m\u001b[38;5;241;43m*\u001b[39;49m\u001b[43margs\u001b[49m\u001b[43m,\u001b[49m\u001b[43m \u001b[49m\u001b[38;5;241;43m*\u001b[39;49m\u001b[38;5;241;43m*\u001b[39;49m\u001b[43mkwargs\u001b[49m\u001b[43m)\u001b[49m\n\u001b[1;32m   1752\u001b[0m result \u001b[38;5;241m=\u001b[39m \u001b[38;5;28;01mNone\u001b[39;00m\n\u001b[1;32m   1753\u001b[0m called_always_called_hooks \u001b[38;5;241m=\u001b[39m \u001b[38;5;28mset\u001b[39m()\n",
      "File \u001b[0;32m~/DGL-Group-Project/.venv/lib/python3.12/site-packages/torch/nn/modules/container.py:250\u001b[0m, in \u001b[0;36mSequential.forward\u001b[0;34m(self, input)\u001b[0m\n\u001b[1;32m    248\u001b[0m \u001b[38;5;28;01mdef\u001b[39;00m\u001b[38;5;250m \u001b[39m\u001b[38;5;21mforward\u001b[39m(\u001b[38;5;28mself\u001b[39m, \u001b[38;5;28minput\u001b[39m):\n\u001b[1;32m    249\u001b[0m     \u001b[38;5;28;01mfor\u001b[39;00m module \u001b[38;5;129;01min\u001b[39;00m \u001b[38;5;28mself\u001b[39m:\n\u001b[0;32m--> 250\u001b[0m         \u001b[38;5;28minput\u001b[39m \u001b[38;5;241m=\u001b[39m \u001b[43mmodule\u001b[49m\u001b[43m(\u001b[49m\u001b[38;5;28;43minput\u001b[39;49m\u001b[43m)\u001b[49m\n\u001b[1;32m    251\u001b[0m     \u001b[38;5;28;01mreturn\u001b[39;00m \u001b[38;5;28minput\u001b[39m\n",
      "File \u001b[0;32m~/DGL-Group-Project/.venv/lib/python3.12/site-packages/torch/nn/modules/module.py:1739\u001b[0m, in \u001b[0;36mModule._wrapped_call_impl\u001b[0;34m(self, *args, **kwargs)\u001b[0m\n\u001b[1;32m   1737\u001b[0m     \u001b[38;5;28;01mreturn\u001b[39;00m \u001b[38;5;28mself\u001b[39m\u001b[38;5;241m.\u001b[39m_compiled_call_impl(\u001b[38;5;241m*\u001b[39margs, \u001b[38;5;241m*\u001b[39m\u001b[38;5;241m*\u001b[39mkwargs)  \u001b[38;5;66;03m# type: ignore[misc]\u001b[39;00m\n\u001b[1;32m   1738\u001b[0m \u001b[38;5;28;01melse\u001b[39;00m:\n\u001b[0;32m-> 1739\u001b[0m     \u001b[38;5;28;01mreturn\u001b[39;00m \u001b[38;5;28;43mself\u001b[39;49m\u001b[38;5;241;43m.\u001b[39;49m\u001b[43m_call_impl\u001b[49m\u001b[43m(\u001b[49m\u001b[38;5;241;43m*\u001b[39;49m\u001b[43margs\u001b[49m\u001b[43m,\u001b[49m\u001b[43m \u001b[49m\u001b[38;5;241;43m*\u001b[39;49m\u001b[38;5;241;43m*\u001b[39;49m\u001b[43mkwargs\u001b[49m\u001b[43m)\u001b[49m\n",
      "File \u001b[0;32m~/DGL-Group-Project/.venv/lib/python3.12/site-packages/torch/nn/modules/module.py:1750\u001b[0m, in \u001b[0;36mModule._call_impl\u001b[0;34m(self, *args, **kwargs)\u001b[0m\n\u001b[1;32m   1745\u001b[0m \u001b[38;5;66;03m# If we don't have any hooks, we want to skip the rest of the logic in\u001b[39;00m\n\u001b[1;32m   1746\u001b[0m \u001b[38;5;66;03m# this function, and just call forward.\u001b[39;00m\n\u001b[1;32m   1747\u001b[0m \u001b[38;5;28;01mif\u001b[39;00m \u001b[38;5;129;01mnot\u001b[39;00m (\u001b[38;5;28mself\u001b[39m\u001b[38;5;241m.\u001b[39m_backward_hooks \u001b[38;5;129;01mor\u001b[39;00m \u001b[38;5;28mself\u001b[39m\u001b[38;5;241m.\u001b[39m_backward_pre_hooks \u001b[38;5;129;01mor\u001b[39;00m \u001b[38;5;28mself\u001b[39m\u001b[38;5;241m.\u001b[39m_forward_hooks \u001b[38;5;129;01mor\u001b[39;00m \u001b[38;5;28mself\u001b[39m\u001b[38;5;241m.\u001b[39m_forward_pre_hooks\n\u001b[1;32m   1748\u001b[0m         \u001b[38;5;129;01mor\u001b[39;00m _global_backward_pre_hooks \u001b[38;5;129;01mor\u001b[39;00m _global_backward_hooks\n\u001b[1;32m   1749\u001b[0m         \u001b[38;5;129;01mor\u001b[39;00m _global_forward_hooks \u001b[38;5;129;01mor\u001b[39;00m _global_forward_pre_hooks):\n\u001b[0;32m-> 1750\u001b[0m     \u001b[38;5;28;01mreturn\u001b[39;00m \u001b[43mforward_call\u001b[49m\u001b[43m(\u001b[49m\u001b[38;5;241;43m*\u001b[39;49m\u001b[43margs\u001b[49m\u001b[43m,\u001b[49m\u001b[43m \u001b[49m\u001b[38;5;241;43m*\u001b[39;49m\u001b[38;5;241;43m*\u001b[39;49m\u001b[43mkwargs\u001b[49m\u001b[43m)\u001b[49m\n\u001b[1;32m   1752\u001b[0m result \u001b[38;5;241m=\u001b[39m \u001b[38;5;28;01mNone\u001b[39;00m\n\u001b[1;32m   1753\u001b[0m called_always_called_hooks \u001b[38;5;241m=\u001b[39m \u001b[38;5;28mset\u001b[39m()\n",
      "File \u001b[0;32m~/DGL-Group-Project/.venv/lib/python3.12/site-packages/torch/nn/modules/batchnorm.py:160\u001b[0m, in \u001b[0;36m_BatchNorm.forward\u001b[0;34m(self, input)\u001b[0m\n\u001b[1;32m    159\u001b[0m \u001b[38;5;28;01mdef\u001b[39;00m\u001b[38;5;250m \u001b[39m\u001b[38;5;21mforward\u001b[39m(\u001b[38;5;28mself\u001b[39m, \u001b[38;5;28minput\u001b[39m: Tensor) \u001b[38;5;241m-\u001b[39m\u001b[38;5;241m>\u001b[39m Tensor:\n\u001b[0;32m--> 160\u001b[0m     \u001b[38;5;28;43mself\u001b[39;49m\u001b[38;5;241;43m.\u001b[39;49m\u001b[43m_check_input_dim\u001b[49m\u001b[43m(\u001b[49m\u001b[38;5;28;43minput\u001b[39;49m\u001b[43m)\u001b[49m\n\u001b[1;32m    162\u001b[0m     \u001b[38;5;66;03m# exponential_average_factor is set to self.momentum\u001b[39;00m\n\u001b[1;32m    163\u001b[0m     \u001b[38;5;66;03m# (when it is available) only so that it gets updated\u001b[39;00m\n\u001b[1;32m    164\u001b[0m     \u001b[38;5;66;03m# in ONNX graph when this node is exported to ONNX.\u001b[39;00m\n\u001b[1;32m    165\u001b[0m     \u001b[38;5;28;01mif\u001b[39;00m \u001b[38;5;28mself\u001b[39m\u001b[38;5;241m.\u001b[39mmomentum \u001b[38;5;129;01mis\u001b[39;00m \u001b[38;5;28;01mNone\u001b[39;00m:\n",
      "File \u001b[0;32m~/DGL-Group-Project/.venv/lib/python3.12/site-packages/torch/nn/modules/batchnorm.py:341\u001b[0m, in \u001b[0;36mBatchNorm1d._check_input_dim\u001b[0;34m(self, input)\u001b[0m\n\u001b[1;32m    339\u001b[0m \u001b[38;5;28;01mdef\u001b[39;00m\u001b[38;5;250m \u001b[39m\u001b[38;5;21m_check_input_dim\u001b[39m(\u001b[38;5;28mself\u001b[39m, \u001b[38;5;28minput\u001b[39m):\n\u001b[1;32m    340\u001b[0m     \u001b[38;5;28;01mif\u001b[39;00m \u001b[38;5;28minput\u001b[39m\u001b[38;5;241m.\u001b[39mdim() \u001b[38;5;241m!=\u001b[39m \u001b[38;5;241m2\u001b[39m \u001b[38;5;129;01mand\u001b[39;00m \u001b[38;5;28minput\u001b[39m\u001b[38;5;241m.\u001b[39mdim() \u001b[38;5;241m!=\u001b[39m \u001b[38;5;241m3\u001b[39m:\n\u001b[0;32m--> 341\u001b[0m         \u001b[38;5;28;01mraise\u001b[39;00m \u001b[38;5;167;01mValueError\u001b[39;00m(\u001b[38;5;124mf\u001b[39m\u001b[38;5;124m\"\u001b[39m\u001b[38;5;124mexpected 2D or 3D input (got \u001b[39m\u001b[38;5;132;01m{\u001b[39;00m\u001b[38;5;28minput\u001b[39m\u001b[38;5;241m.\u001b[39mdim()\u001b[38;5;132;01m}\u001b[39;00m\u001b[38;5;124mD input)\u001b[39m\u001b[38;5;124m\"\u001b[39m)\n",
      "\u001b[0;31mValueError\u001b[0m: expected 2D or 3D input (got 1D input)"
     ]
    }
   ],
   "source": [
    "criterion = nn.L1Loss()\n",
    "\n",
    "train_loss_history, val_loss_history, lr_history, best_model_state_dict = train_model(\n",
    "    model=model, \n",
    "    train_dataloader=train_loader, \n",
    "    val_dataloader=val_loader,\n",
    "    criterion=criterion,\n",
    "    num_epochs=100,\n",
    "    lr=0.01\n",
    ")"
   ]
  },
  {
   "cell_type": "code",
   "execution_count": 8,
   "id": "96cfee88",
   "metadata": {
    "ExecuteTime": {
     "end_time": "2025-03-02T00:12:05.873778Z",
     "start_time": "2025-03-02T00:12:05.689368Z"
    }
   },
   "outputs": [
    {
     "name": "stdout",
     "output_type": "stream",
     "text": [
      "0.19591764\n"
     ]
    }
   ],
   "source": [
    "model.load_state_dict(best_model_state_dict)\n",
    "loss = evaluate_model(model, val_loader)\n",
    "print(loss)\n",
    "\n",
    "torch.save(model, 'model.pth')"
   ]
  },
  {
   "cell_type": "code",
   "execution_count": 9,
   "id": "737d15d1",
   "metadata": {},
   "outputs": [
    {
     "data": {
      "image/png": "[encoded data removed]",
      "text/plain": [
       "<Figure size 640x480 with 1 Axes>"
      ]
     },
     "metadata": {},
     "output_type": "display_data"
    }
   ],
   "source": [
    "plt.plot(train_loss_history)\n",
    "plt.show()"
   ]
  },
  {
   "cell_type": "code",
   "execution_count": 54,
   "id": "1c22f927",
   "metadata": {},
   "outputs": [],
   "source": [
    "model = torch.load(\"model.pth\", weights_only=False)"
   ]
  },
  {
   "cell_type": "code",
   "execution_count": 55,
   "id": "914e84d0f1dba99d",
   "metadata": {},
   "outputs": [],
   "source": [
    "test_dataloader = data_module.test_dataloader()"
   ]
  },
  {
   "cell_type": "code",
   "execution_count": 57,
   "id": "f14c7a044c71f324",
   "metadata": {},
   "outputs": [
    {
     "name": "stdout",
     "output_type": "stream",
     "text": [
      "(112, 0)\n"
     ]
    }
   ],
   "source": [
    "submission_file = \"outputs/test/submission.csv\"\n",
    "save_prediction(model, test_dataloader, submission_file)"
   ]
  },
  {
   "cell_type": "code",
   "execution_count": null,
   "id": "5e7f2efd30d9c81",
   "metadata": {},
   "outputs": [],
   "source": [
    "df = pd.read_csv(submission_file)"
   ]
  },
  {
   "cell_type": "code",
   "execution_count": null,
   "id": "dab8416213942339",
   "metadata": {},
   "outputs": [],
   "source": [
    "#!kaggle competitions submit -c dgl-2025-brain-graph-super-resolution-challenge -f outputs/test/submission.csv -m \"test\"\n"
   ]
  }
 ],
 "metadata": {
  "kernelspec": {
   "display_name": ".venv",
   "language": "python",
   "name": "python3"
  },
  "language_info": {
   "codemirror_mode": {
    "name": "ipython",
    "version": 3
   },
   "file_extension": ".py",
   "mimetype": "text/x-python",
   "name": "python",
   "nbconvert_exporter": "python",
   "pygments_lexer": "ipython3",
   "version": "3.12.3"
  }
 },
 "nbformat": 4,
 "nbformat_minor": 5
}
