{
 "cells": [
  {
   "cell_type": "code",
   "execution_count": 2,
   "id": "initial_id",
   "metadata": {
    "ExecuteTime": {
     "end_time": "2025-03-02T00:06:48.775872Z",
     "start_time": "2025-03-02T00:06:45.364490Z"
    },
    "collapsed": true
   },
   "outputs": [],
   "source": [
    "import os\n",
    "os.environ[\"CUDA_VISIBLE_DEVICES\"] = \"2\" \n",
    "\n",
    "\n",
    "import torch_geometric\n",
    "import matplotlib.pyplot as plt\n",
    "import numpy as np\n",
    "import torch\n",
    "import torch.nn as nn\n",
    "import pandas as pd\n",
    "import torch.nn.functional as F\n",
    "from torch_geometric.nn import GCNConv, TopKPooling, global_mean_pool, GraphUNet\n",
    "from torch_geometric.data import Batch\n",
    "from torch_geometric.utils import to_dense_adj\n",
    "from tqdm import tqdm\n",
    "\n",
    "\n",
    "from utils.data import GraphDataModule, save_prediction\n",
    "from utils.training import train_model\n",
    "from utils.metrics import evaluate_model"
   ]
  },
  {
   "cell_type": "code",
   "execution_count": 3,
   "id": "5d3a6ae3",
   "metadata": {
    "ExecuteTime": {
     "end_time": "2025-03-02T00:07:13.123356Z",
     "start_time": "2025-03-02T00:07:13.109763Z"
    }
   },
   "outputs": [
    {
     "name": "stdout",
     "output_type": "stream",
     "text": [
      "Using device: cuda\n"
     ]
    }
   ],
   "source": [
    "device = torch.device(\"cuda\" if torch.cuda.is_available() else \"cpu\")\n",
    "print(f\"Using device: {device}\")"
   ]
  },
  {
   "cell_type": "code",
   "execution_count": 4,
   "id": "e34fa3e9ebc9bb47",
   "metadata": {
    "ExecuteTime": {
     "end_time": "2025-03-02T00:07:20.093551Z",
     "start_time": "2025-03-02T00:07:15.538182Z"
    }
   },
   "outputs": [
    {
     "name": "stdout",
     "output_type": "stream",
     "text": [
      "Time taken to load ./data/hr_train.csv: 3.8001832962036133 seconds\n",
      "Time taken to load ./data/lr_train.csv: 0.8850805759429932 seconds\n",
      "Time taken to load ./data/lr_test.csv: 0.4472048282623291 seconds\n"
     ]
    },
    {
     "name": "stderr",
     "output_type": "stream",
     "text": [
      "Converting vectors to graphs: 100%|██████████| 133/133 [00:00<00:00, 334.62it/s]\n",
      "Converting vectors to graphs: 100%|██████████| 34/34 [00:00<00:00, 313.33it/s]\n",
      "Converting vectors to graphs: 100%|██████████| 112/112 [00:00<00:00, 861.69it/s]\n"
     ]
    }
   ],
   "source": [
    "data_module = GraphDataModule(\"./data\", num_workers=1, batch_size=1)\n",
    "train_loader = data_module.train_dataloader()\n",
    "val_loader = data_module.val_dataloader()"
   ]
  },
  {
   "cell_type": "code",
   "execution_count": 5,
   "id": "0a6bd62b",
   "metadata": {},
   "outputs": [],
   "source": [
    "def compute_PCA(batch, n_components=None):\n",
    "    cov_matrix = to_dense_adj(batch.edge_index, edge_attr=batch.edge_attr, batch=batch.batch)\n",
    "    eigenvalues, eigenvectors = torch.linalg.eigh(cov_matrix)\n",
    "    \n",
    "    return {\n",
    "        'eigenvalues': eigenvalues.squeeze(),\n",
    "        'eigenvectors': eigenvectors.squeeze()\n",
    "    }"
   ]
  },
  {
   "cell_type": "code",
   "execution_count": 6,
   "id": "f5c15b0f",
   "metadata": {
    "ExecuteTime": {
     "end_time": "2025-03-02T00:26:48.537483Z",
     "start_time": "2025-03-02T00:26:48.530222Z"
    }
   },
   "outputs": [
    {
     "name": "stdout",
     "output_type": "stream",
     "text": [
      "1 160 268\n"
     ]
    }
   ],
   "source": [
    "batch,target_batch = next(iter(train_loader))\n",
    "input_dim = batch[0].x.shape[0]\n",
    "output_dim = target_batch[0].x.shape[0]\n",
    "input_features = batch[0].x.shape[1]\n",
    "print(input_features,input_dim,output_dim)"
   ]
  },
  {
   "cell_type": "code",
   "execution_count": 7,
   "id": "723a6969",
   "metadata": {},
   "outputs": [],
   "source": [
    "def compute_list_features(batch_list,ncomp):\n",
    "    A_list = [\n",
    "        to_dense_adj(batch.edge_index, edge_attr=batch.edge_attr, batch=batch.batch)\n",
    "        for batch in batch_list\n",
    "    ]\n",
    "    A = torch.zeros_like(A_list[0])\n",
    "    for a in A_list: A += a\n",
    "    \n",
    "    eigenvalues, eigenvectors = torch.linalg.eigh(A)\n",
    "    \n",
    "    eigenvalues = eigenvalues.squeeze()\n",
    "    eigenvectors = eigenvectors.squeeze()\n",
    "    # Get indices of top ncomp largest absolute eigenvalues\n",
    "    _, top_indices = torch.topk(eigenvalues.abs(), k=ncomp)\n",
    "    Q = eigenvectors[:,top_indices]\n",
    "\n",
    "    return Q\n"
   ]
  },
  {
   "cell_type": "code",
   "execution_count": 8,
   "id": "06bcae19",
   "metadata": {},
   "outputs": [],
   "source": [
    "def project_adj(batch, Q):\n",
    "    A = to_dense_adj(batch.edge_index, edge_attr=batch.edge_attr, batch=batch.batch).squeeze()\n",
    "    C = (Q.t() @ A @ Q).to(torch.cfloat)\n",
    "    C = torch.diag(torch.diag(C))\n",
    "    C = C ** (1/2)\n",
    "    return Q.to(torch.cfloat) @ C"
   ]
  },
  {
   "cell_type": "code",
   "execution_count": 9,
   "id": "c819d447",
   "metadata": {},
   "outputs": [],
   "source": [
    "def compute_features(batch, ncomp):\n",
    "    pca_batch = compute_PCA(batch)\n",
    "    \n",
    "    # Get absolute eigenvalues and sort them in descending order\n",
    "    abs_eigenvalues = pca_batch[\"eigenvalues\"].abs()\n",
    "    \n",
    "    # Get indices of top ncomp largest absolute eigenvalues\n",
    "    _, top_indices = torch.topk(abs_eigenvalues, k=ncomp)\n",
    "    \n",
    "    # Select eigenvectors and eigenvalues corresponding to top ncomp\n",
    "    Q = pca_batch[\"eigenvectors\"][:,top_indices].to(torch.cfloat)\n",
    "    D = torch.diag(pca_batch[\"eigenvalues\"]).to(torch.cfloat)\n",
    "    D2 = D ** (1/2)\n",
    "    D2 = D2[:,top_indices][top_indices,:]\n",
    "    Q2 = Q @ D2\n",
    "    \n",
    "    return Q2, Q"
   ]
  },
  {
   "cell_type": "code",
   "execution_count": null,
   "id": "89891333",
   "metadata": {},
   "outputs": [
    {
     "name": "stderr",
     "output_type": "stream",
     "text": [
      "/tmp/ipykernel_3064968/580966635.py:10: UserWarning: Casting complex values to real discards the imaginary part (Triggered internally at /pytorch/aten/src/ATen/native/Copy.cpp:308.)\n",
      "  cov_hat = (Q0 @ Q0.t()).to(torch.float)\n"
     ]
    },
    {
     "data": {
      "text/plain": [
       "np.float64(0.13201050022069147)"
      ]
     },
     "execution_count": 9,
     "metadata": {},
     "output_type": "execute_result"
    }
   ],
   "source": [
    "batch_list = [batch for batch,_ in iter(train_loader)]\n",
    "target_list = [batch for _,batch in iter(train_loader)]\n",
    "Q1 = compute_list_features(batch_list, 64)\n",
    "Q2 = compute_list_features(target_list, 128)\n",
    "\n",
    "mean_list = []\n",
    "for batch,_ in train_loader:\n",
    "    Q0 = project_adj(batch, Q1)\n",
    "\n",
    "    cov_hat = (Q0 @ Q0.t()).to(torch.float)\n",
    "    cov = to_dense_adj(batch.edge_index, edge_attr=batch.edge_attr, batch=batch.batch).squeeze()\n",
    "\n",
    "    mean_list.append(torch.mean((cov_hat-cov).abs()).item())\n",
    "\n",
    "np.mean(mean_list)\n"
   ]
  },
  {
   "cell_type": "code",
   "execution_count": null,
   "id": "f60c5958",
   "metadata": {},
   "outputs": [],
   "source": [
    "from torch.nn import Linear, BatchNorm1d, Dropout, TransformerEncoder, TransformerEncoderLayer\n",
    "from torch_geometric.nn import GATConv, GCNConv, GINConv, global_add_pool\n",
    "\n",
    "\n",
    "\n",
    "\n",
    "class UpscalerGNN(nn.Module):\n",
    "    def __init__(self, hidden_size, hidden_layers, Q1,Q2):\n",
    "        super().__init__()\n",
    "        self.Q1 = Q1\n",
    "        self.Q2 = Q2\n",
    "        self.input_nodes = 160\n",
    "        self.output_nodes = 268\n",
    "        \n",
    "\n",
    "        self.layers = nn.ModuleList()\n",
    "        self.layers.append(\n",
    "            nn.Sequential(\n",
    "                nn.Linear(in_features=64, out_features=hidden_size),\n",
    "                nn.Dropout(p=0.1),\n",
    "                nn.LeakyReLU()\n",
    "            )\n",
    "        )\n",
    "\n",
    "        for _ in range(hidden_layers):\n",
    "            self.layers.append(\n",
    "                nn.Sequential(\n",
    "                    nn.Linear(in_features=hidden_size, out_features=hidden_size),\n",
    "                    nn.Dropout(p=0.1),\n",
    "                    nn.LeakyReLU()\n",
    "                )\n",
    "            )\n",
    "\n",
    "        self.layers.append(\n",
    "            nn.Sequential(\n",
    "                nn.Linear(in_features=hidden_size, out_features=128),\n",
    "                nn.Dropout(p=0.1),\n",
    "                nn.LeakyReLU()\n",
    "            )\n",
    "        )\n",
    "        \n",
    "    @property\n",
    "    def device(self):\n",
    "        return next(self.parameters()).device\n",
    "\n",
    "    def forward(self, samples: Batch): \n",
    "        A = to_dense_adj(batch.edge_index, edge_attr=batch.edge_attr, batch=batch.batch).squeeze().to(self.device)\n",
    "        C = self.Q1.t() @ A @ self.Q1\n",
    "        C = C.squeeze()\n",
    "        C = torch.diag(C).unsqueeze(0)\n",
    "\n",
    "        for layer in self.layers:\n",
    "            C = layer(C)\n",
    "\n",
    "        C = torch.diag(C.squeeze())\n",
    "        return (self.Q2 @ C @ self.Q2.t()).unsqueeze(0)\n"
   ]
  },
  {
   "cell_type": "code",
   "execution_count": 24,
   "id": "e6cd7ae3",
   "metadata": {
    "ExecuteTime": {
     "end_time": "2025-03-02T00:26:49.520888Z",
     "start_time": "2025-03-02T00:26:49.507098Z"
    }
   },
   "outputs": [],
   "source": [
    "model = UpscalerGNN(\n",
    "    hidden_size=64, \n",
    "    hidden_layers=1,\n",
    "    Q1=Q1.to(device),\n",
    "    Q2=Q2.to(device)\n",
    ").to(device)"
   ]
  },
  {
   "cell_type": "code",
   "execution_count": 26,
   "id": "60478db46877fe03",
   "metadata": {
    "ExecuteTime": {
     "end_time": "2025-03-02T00:27:12.555892200Z",
     "start_time": "2025-03-02T00:26:51.150648Z"
    }
   },
   "outputs": [
    {
     "name": "stderr",
     "output_type": "stream",
     "text": [
      " 48%|████▊     | 48/100 [00:31<00:34,  1.51it/s, train_loss=0.04, val_loss=0.0351, lr=1e-5]    \n"
     ]
    }
   ],
   "source": [
    "criterion = nn.MSELoss()\n",
    "\n",
    "train_loss_history, val_loss_history, lr_history, best_model_state_dict = train_model(\n",
    "    model=model, \n",
    "    train_dataloader=train_loader, \n",
    "    val_dataloader=val_loader,\n",
    "    criterion=criterion,\n",
    "    num_epochs=100,\n",
    "    lr=0.001\n",
    ")"
   ]
  },
  {
   "cell_type": "code",
   "execution_count": 17,
   "id": "96cfee88",
   "metadata": {
    "ExecuteTime": {
     "end_time": "2025-03-02T00:12:05.873778Z",
     "start_time": "2025-03-02T00:12:05.689368Z"
    }
   },
   "outputs": [
    {
     "name": "stdout",
     "output_type": "stream",
     "text": [
      "0.14936744\n"
     ]
    }
   ],
   "source": [
    "model.load_state_dict(best_model_state_dict)\n",
    "loss = evaluate_model(model, val_loader)\n",
    "print(loss)\n",
    "\n",
    "torch.save(model, 'model.pth')"
   ]
  },
  {
   "cell_type": "code",
   "execution_count": 19,
   "id": "737d15d1",
   "metadata": {},
   "outputs": [
    {
     "data": {
      "image/png": "[encoded data removed]",
      "text/plain": [
       "<Figure size 640x480 with 1 Axes>"
      ]
     },
     "metadata": {},
     "output_type": "display_data"
    }
   ],
   "source": [
    "plt.plot(train_loss_history)\n",
    "plt.plot(val_loss_history)\n",
    "plt.show()"
   ]
  },
  {
   "cell_type": "code",
   "execution_count": 54,
   "id": "1c22f927",
   "metadata": {},
   "outputs": [],
   "source": [
    "model = torch.load(\"model.pth\", weights_only=False)"
   ]
  },
  {
   "cell_type": "code",
   "execution_count": 21,
   "id": "914e84d0f1dba99d",
   "metadata": {},
   "outputs": [],
   "source": [
    "test_dataloader = data_module.test_dataloader()"
   ]
  },
  {
   "cell_type": "code",
   "execution_count": 22,
   "id": "f14c7a044c71f324",
   "metadata": {},
   "outputs": [],
   "source": [
    "submission_file = \"outputs/test/submission.csv\"\n",
    "save_prediction(model, test_dataloader, submission_file)"
   ]
  },
  {
   "cell_type": "code",
   "execution_count": 23,
   "id": "5e7f2efd30d9c81",
   "metadata": {},
   "outputs": [],
   "source": [
    "df = pd.read_csv(submission_file)"
   ]
  },
  {
   "cell_type": "code",
   "execution_count": null,
   "id": "dab8416213942339",
   "metadata": {},
   "outputs": [
    {
     "name": "stdout",
     "output_type": "stream",
     "text": [
      "/bin/bash: line 1: kaggle: command not found\n"
     ]
    }
   ],
   "source": [
    "# !kaggle competitions submit -c dgl-2025-brain-graph-super-resolution-challenge -f outputs/test/submission.csv -m \"test\"\n"
   ]
  }
 ],
 "metadata": {
  "kernelspec": {
   "display_name": ".venv",
   "language": "python",
   "name": "python3"
  },
  "language_info": {
   "codemirror_mode": {
    "name": "ipython",
    "version": 3
   },
   "file_extension": ".py",
   "mimetype": "text/x-python",
   "name": "python",
   "nbconvert_exporter": "python",
   "pygments_lexer": "ipython3",
   "version": "3.12.3"
  }
 },
 "nbformat": 4,
 "nbformat_minor": 5
}
