{
 "cells": [
  {
   "cell_type": "code",
   "execution_count": 1,
   "id": "initial_id",
   "metadata": {
    "ExecuteTime": {
     "end_time": "2025-02-28T17:49:28.436703Z",
     "start_time": "2025-02-28T17:49:23.605168Z"
    },
    "collapsed": true
   },
   "outputs": [],
   "source": [
    "import os\n",
    "# os.environ[\"CUDA_VISIBLE_DEVICES\"] = \"2\" \n",
    "\n",
    "\n",
    "import torch_geometric\n",
    "import matplotlib.pyplot as plt\n",
    "import numpy as np\n",
    "import torch\n",
    "import torch.nn as nn\n",
    "import torch.nn.functional as F\n",
    "from torch_geometric.nn import GCNConv, TopKPooling, global_mean_pool, GraphUNet\n",
    "from torch_geometric.data import Batch\n",
    "from torch_geometric.utils import to_dense_adj\n",
    "\n",
    "\n",
    "from utils.data import GraphDataModule\n",
    "from utils.training import train_model\n",
    "from utils.metrics import evaluate_model"
   ]
  },
  {
   "cell_type": "code",
   "execution_count": null,
   "id": "5d3a6ae3",
   "metadata": {},
   "outputs": [
    {
     "name": "stdout",
     "output_type": "stream",
     "text": [
      "Using device: cuda\n"
     ]
    }
   ],
   "source": [
    "device = torch.device(\"cuda\" if torch.cuda.is_available() else \"cpu\")\n",
    "print(f\"Using device: {device}\")"
   ]
  },
  {
   "cell_type": "code",
   "execution_count": 3,
   "id": "e34fa3e9ebc9bb47",
   "metadata": {
    "ExecuteTime": {
     "end_time": "2025-02-28T17:49:28.692243Z",
     "start_time": "2025-02-28T17:49:28.445167Z"
    }
   },
   "outputs": [
    {
     "name": "stdout",
     "output_type": "stream",
     "text": [
      "Loading data from disk\n"
     ]
    },
    {
     "name": "stderr",
     "output_type": "stream",
     "text": [
      "Converting vectors to graphs:   0%|          | 0/133 [00:00<?, ?it/s]"
     ]
    },
    {
     "name": "stderr",
     "output_type": "stream",
     "text": [
      "Converting vectors to graphs: 100%|██████████| 133/133 [00:00<00:00, 144.57it/s]\n",
      "Converting vectors to graphs: 100%|██████████| 34/34 [00:00<00:00, 346.06it/s]\n"
     ]
    }
   ],
   "source": [
    "data_module = GraphDataModule(\"./data\", num_workers=1)\n",
    "train_loader = data_module.train_dataloader()\n",
    "val_loader = data_module.val_dataloader()"
   ]
  },
  {
   "cell_type": "code",
   "execution_count": 4,
   "id": "334b874b7023c51b",
   "metadata": {
    "ExecuteTime": {
     "end_time": "2025-02-28T17:57:00.945099Z",
     "start_time": "2025-02-28T17:57:00.926615Z"
    }
   },
   "outputs": [],
   "source": [
    "class SuperResMLP(nn.Module):\n",
    "    def __init__(self, num_nodes_input, num_nodes_output, num_hidden_nodes, n_layers):\n",
    "        super().__init__()\n",
    "        self.num_nodes_input = num_nodes_input\n",
    "        self.num_nodes_output = num_nodes_output\n",
    "        input_size = ((num_nodes_input+1)*(num_nodes_input))//2\n",
    "        output_size = ((num_nodes_output+1)*(num_nodes_output))//2\n",
    "        hidden_size = ((num_hidden_nodes+1)*(num_hidden_nodes))//2\n",
    "        self.input_layer = nn.Sequential(\n",
    "            nn.Flatten(start_dim=1),\n",
    "            nn.Linear(in_features=input_size, out_features=hidden_size),\n",
    "            nn.BatchNorm1d(num_features=hidden_size),\n",
    "            nn.Dropout(p=0.1),\n",
    "            nn.ReLU(),\n",
    "        )      \n",
    "        \n",
    "        self.hidden_layers = nn.ModuleList()\n",
    "        for _ in range(n_layers - 1):\n",
    "            self.hidden_layers.append(\n",
    "                nn.Sequential(\n",
    "                    nn.Linear(in_features=hidden_size, out_features=hidden_size),\n",
    "                    nn.BatchNorm1d(num_features=hidden_size),\n",
    "                    nn.Dropout(p=0.1),\n",
    "                    nn.ReLU()\n",
    "                )\n",
    "            )\n",
    "\n",
    "        self.output_layer = nn.Sequential(\n",
    "            nn.Linear(in_features=hidden_size, out_features=output_size),\n",
    "            nn.Sigmoid(),\n",
    "        )\n",
    "\n",
    "\n",
    "    @property\n",
    "    def device(self):\n",
    "        return next(self.parameters()).device\n",
    "\n",
    "    def forward(self, samples: Batch):\n",
    "        x = to_dense_adj(samples.edge_index, batch=samples.batch)\n",
    "        batch_size = x.shape[0]\n",
    "        mask = torch.triu(torch.ones_like(x[0])).bool()\n",
    "        x = x[:, mask]\n",
    "        x = self.input_layer(x)\n",
    "        for layer in self.hidden_layers:\n",
    "            x = layer(x)\n",
    "        x = self.output_layer(x)\n",
    "\n",
    "        # Initialize output matrix batch\n",
    "        \n",
    "        matrix = torch.zeros((batch_size, self.num_nodes_output, self.num_nodes_output), device=x.device)\n",
    "\n",
    "        # Create mask for upper triangular part\n",
    "        mask = torch.triu(torch.ones(self.num_nodes_output, self.num_nodes_output)).bool().to(x.device)\n",
    "\n",
    "        # Fill upper triangular part\n",
    "        matrix[:, mask] = x\n",
    "\n",
    "        # Mirror upper triangular to lower triangular (make symmetric)\n",
    "        matrix = matrix + matrix.transpose(1, 2) - torch.diag_embed(torch.diagonal(matrix, dim1=1, dim2=2))\n",
    "\n",
    "        return matrix\n"
   ]
  },
  {
   "cell_type": "code",
   "execution_count": 5,
   "id": "f5c15b0f",
   "metadata": {},
   "outputs": [],
   "source": [
    "batch,target_batch = next(iter(train_loader))\n",
    "input_dim = batch[0].x.shape[0]\n",
    "output_dim = target_batch[0].x.shape[0]\n"
   ]
  },
  {
   "cell_type": "code",
   "execution_count": 6,
   "id": "e6cd7ae3",
   "metadata": {},
   "outputs": [],
   "source": [
    "model = SuperResMLP(input_dim, output_dim, num_hidden_nodes=(input_dim+output_dim)//2, n_layers=1).to(device)"
   ]
  },
  {
   "cell_type": "code",
   "execution_count": 7,
   "id": "60478db46877fe03",
   "metadata": {
    "ExecuteTime": {
     "end_time": "2025-02-28T17:53:12.073385Z",
     "start_time": "2025-02-28T17:51:53.685019Z"
    }
   },
   "outputs": [
    {
     "name": "stderr",
     "output_type": "stream",
     "text": [
      "Epoch loss 0.17106887698173523:  58%|█████▊    | 58/100 [00:53<00:38,  1.09it/s, train_loss=0.223, val_loss=0.381, lr=1e-5]  \n"
     ]
    }
   ],
   "source": [
    "criterion = nn.MSELoss()\n",
    "\n",
    "train_loss_history, val_loss_history, lr_history, best_model_state_dict = train_model(\n",
    "    model=model, \n",
    "    train_dataloader=train_loader, \n",
    "    val_dataloader=val_loader,\n",
    "    criterion=criterion,\n",
    "    num_epochs=100,\n",
    ")"
   ]
  },
  {
   "cell_type": "code",
   "execution_count": null,
   "id": "96cfee88",
   "metadata": {},
   "outputs": [
    {
     "name": "stdout",
     "output_type": "stream",
     "text": [
      "0.19527285\n"
     ]
    }
   ],
   "source": [
    "model.load_state_dict(best_model_state_dict)\n",
    "loss = evaluate_model(model, val_loader)\n",
    "print(loss)\n",
    "\n",
    "torch.save(model, 'model.pth')"
   ]
  },
  {
   "cell_type": "code",
   "execution_count": null,
   "id": "1c22f927",
   "metadata": {},
   "outputs": [],
   "source": [
    "model = torch.load(\"model.pth\", weights_only=False)"
   ]
  },
  {
   "cell_type": "code",
   "execution_count": 10,
   "id": "deb30689",
   "metadata": {},
   "outputs": [],
   "source": [
    "batch = batch.to(device)\n",
    "output = model(batch)"
   ]
  },
  {
   "cell_type": "code",
   "execution_count": 11,
   "id": "5c58d915",
   "metadata": {},
   "outputs": [
    {
     "data": {
      "image/png": "[encoded data removed]",
      "text/plain": [
       "<Figure size 640x480 with 1 Axes>"
      ]
     },
     "metadata": {},
     "output_type": "display_data"
    }
   ],
   "source": [
    "\n",
    "flat_matrix = output.detach().cpu().numpy().flatten()\n",
    "\n",
    "\n",
    "# Plot histogram\n",
    "plt.hist(flat_matrix, density=False) \n",
    "plt.title(\"Histogram of Matrix Values\")\n",
    "plt.xlabel(\"Value\")\n",
    "plt.ylabel(\"Frequency\")\n",
    "plt.show()"
   ]
  }
 ],
 "metadata": {
  "kernelspec": {
   "display_name": ".venv",
   "language": "python",
   "name": "python3"
  },
  "language_info": {
   "codemirror_mode": {
    "name": "ipython",
    "version": 3
   },
   "file_extension": ".py",
   "mimetype": "text/x-python",
   "name": "python",
   "nbconvert_exporter": "python",
   "pygments_lexer": "ipython3",
   "version": "3.12.3"
  }
 },
 "nbformat": 4,
 "nbformat_minor": 5
}
