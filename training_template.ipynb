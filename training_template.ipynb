{
 "cells": [
  {
   "cell_type": "code",
   "execution_count": 1,
   "id": "initial_id",
   "metadata": {
    "collapsed": true
   },
   "outputs": [],
   "source": [
    "import os\n",
    "os.environ[\"CUDA_VISIBLE_DEVICES\"] = \"2\" \n",
    "\n",
    "\n",
    "import torch_geometric\n",
    "import matplotlib.pyplot as plt\n",
    "import numpy as np\n",
    "import torch\n",
    "import torch.nn as nn\n",
    "import pandas as pd\n",
    "import torch.nn.functional as F\n",
    "from torch_geometric.nn import GCNConv, TopKPooling, global_mean_pool, GraphUNet\n",
    "from torch_geometric.data import Batch\n",
    "from torch_geometric.utils import to_dense_adj\n",
    "from tqdm import tqdm\n",
    "\n",
    "\n",
    "from utils.data import GraphDataModule, save_prediction\n",
    "from utils.training import train_model\n",
    "from utils.metrics import evaluate_model, GSRLoss"
   ]
  },
  {
   "cell_type": "code",
   "execution_count": 2,
   "id": "5d3a6ae3",
   "metadata": {},
   "outputs": [
    {
     "name": "stdout",
     "output_type": "stream",
     "text": [
      "Using device: cuda\n"
     ]
    }
   ],
   "source": [
    "device = torch.device(\"cuda\" if torch.cuda.is_available() else \"cpu\")\n",
    "print(f\"Using device: {device}\")"
   ]
  },
  {
   "cell_type": "code",
   "execution_count": 3,
   "id": "e34fa3e9ebc9bb47",
   "metadata": {},
   "outputs": [
    {
     "name": "stdout",
     "output_type": "stream",
     "text": [
      "Time taken to load ./data/hr_train.csv: 4.109118700027466 seconds\n",
      "Time taken to load ./data/lr_train.csv: 0.9348254203796387 seconds\n",
      "Time taken to load ./data/lr_test.csv: 0.4729607105255127 seconds\n"
     ]
    },
    {
     "name": "stderr",
     "output_type": "stream",
     "text": [
      "Converting vectors to graphs: 100%|██████████| 133/133 [00:00<00:00, 304.35it/s]\n",
      "Converting vectors to graphs: 100%|██████████| 34/34 [00:00<00:00, 318.70it/s]\n",
      "Converting vectors to graphs: 100%|██████████| 112/112 [00:00<00:00, 883.86it/s]\n"
     ]
    }
   ],
   "source": [
    "data_module = GraphDataModule(\"./data\", num_workers=1)\n",
    "train_loader = data_module.train_dataloader()\n",
    "val_loader = data_module.val_dataloader()"
   ]
  },
  {
   "cell_type": "code",
   "execution_count": 4,
   "id": "334b874b7023c51b",
   "metadata": {},
   "outputs": [],
   "source": [
    "class SuperResMLP(nn.Module):\n",
    "    def __init__(self, num_nodes_input, num_nodes_output, num_hidden_nodes, n_layers):\n",
    "        super().__init__()\n",
    "        self.num_nodes_input = num_nodes_input\n",
    "        self.num_nodes_output = num_nodes_output\n",
    "        input_size = ((num_nodes_input+1)*(num_nodes_input))//2\n",
    "        output_size = ((num_nodes_output+1)*(num_nodes_output))//2\n",
    "        hidden_size = ((num_hidden_nodes+1)*(num_hidden_nodes))//2\n",
    "        self.input_layer = nn.Sequential(\n",
    "            nn.Flatten(start_dim=1),\n",
    "            nn.Linear(in_features=input_size, out_features=hidden_size),\n",
    "            nn.BatchNorm1d(num_features=hidden_size),\n",
    "            nn.Dropout(p=0.1),\n",
    "            nn.ReLU(),\n",
    "        )      \n",
    "        \n",
    "        self.hidden_layers = nn.ModuleList()\n",
    "        for _ in range(n_layers - 1):\n",
    "            self.hidden_layers.append(\n",
    "                nn.Sequential(\n",
    "                    nn.Linear(in_features=hidden_size, out_features=hidden_size),\n",
    "                    nn.BatchNorm1d(num_features=hidden_size),\n",
    "                    nn.Dropout(p=0.1),\n",
    "                    nn.ReLU()\n",
    "                )\n",
    "            )\n",
    "\n",
    "        self.output_layer = nn.Sequential(\n",
    "            nn.Linear(in_features=hidden_size, out_features=output_size),\n",
    "            nn.Sigmoid(),\n",
    "        )\n",
    "\n",
    "\n",
    "    @property\n",
    "    def device(self):\n",
    "        return next(self.parameters()).device\n",
    "\n",
    "    def forward(self, samples: Batch):\n",
    "        x = to_dense_adj(samples.edge_index, edge_attr=samples.edge_attr, batch=samples.batch)\n",
    "        batch_size = x.shape[0]\n",
    "        mask = torch.triu(torch.ones_like(x[0])).bool()\n",
    "        x = x[:, mask]\n",
    "        x = self.input_layer(x)\n",
    "        for layer in self.hidden_layers:\n",
    "            x = layer(x)\n",
    "        x = self.output_layer(x)\n",
    "\n",
    "        # Initialize output matrix batch\n",
    "        \n",
    "        matrix = torch.zeros((batch_size, self.num_nodes_output, self.num_nodes_output), device=x.device)\n",
    "\n",
    "        # Create mask for upper triangular part\n",
    "        mask = torch.triu(torch.ones(self.num_nodes_output, self.num_nodes_output)).bool().to(x.device)\n",
    "\n",
    "        # Fill upper triangular part\n",
    "        matrix[:, mask] = x\n",
    "\n",
    "        # Mirror upper triangular to lower triangular (make symmetric)\n",
    "        matrix = matrix + matrix.transpose(1, 2) - torch.diag_embed(torch.diagonal(matrix, dim1=1, dim2=2))\n",
    "\n",
    "        return matrix\n"
   ]
  },
  {
   "cell_type": "code",
   "execution_count": 5,
   "id": "f5c15b0f",
   "metadata": {},
   "outputs": [],
   "source": [
    "batch,target_batch = next(iter(train_loader))\n",
    "input_dim = batch[0].x.shape[0]\n",
    "output_dim = target_batch[0].x.shape[0]\n"
   ]
  },
  {
   "cell_type": "code",
   "execution_count": 6,
   "id": "e6cd7ae3",
   "metadata": {},
   "outputs": [],
   "source": [
    "model = SuperResMLP(input_dim, output_dim, num_hidden_nodes=(input_dim+output_dim)//2, n_layers=0).to(device)"
   ]
  },
  {
   "cell_type": "code",
   "execution_count": 7,
   "id": "60478db46877fe03",
   "metadata": {},
   "outputs": [
    {
     "name": "stderr",
     "output_type": "stream",
     "text": [
      "Epoch loss 0.06899397820234299:  70%|███████   | 70/100 [10:50<04:38,  9.29s/it, train_loss=0.0817, val_loss=0.128, lr=1e-5]   \n"
     ]
    }
   ],
   "source": [
    "criterion = GSRLoss(device)\n",
    "\n",
    "train_loss_history, val_loss_history, lr_history, best_model_state_dict = train_model(\n",
    "    model=model, \n",
    "    train_dataloader=train_loader, \n",
    "    val_dataloader=val_loader,\n",
    "    criterion=criterion,\n",
    "    num_epochs=100,\n",
    "    device=device,\n",
    ")"
   ]
  },
  {
   "cell_type": "code",
   "execution_count": 8,
   "id": "96cfee88",
   "metadata": {},
   "outputs": [
    {
     "name": "stdout",
     "output_type": "stream",
     "text": [
      "0.25260365\n"
     ]
    }
   ],
   "source": [
    "model.load_state_dict(best_model_state_dict)\n",
    "loss = evaluate_model(model, val_loader)\n",
    "print(loss)\n",
    "\n",
    "torch.save(model, 'model.pth')"
   ]
  },
  {
   "cell_type": "code",
   "execution_count": null,
   "id": "1c22f927",
   "metadata": {},
   "outputs": [],
   "source": [
    "model = torch.load(\"model.pth\", weights_only=False)"
   ]
  },
  {
   "cell_type": "code",
   "execution_count": null,
   "id": "914e84d0f1dba99d",
   "metadata": {},
   "outputs": [],
   "source": [
    "test_dataloader = data_module.test_dataloader()"
   ]
  },
  {
   "cell_type": "code",
   "execution_count": null,
   "id": "f14c7a044c71f324",
   "metadata": {},
   "outputs": [],
   "source": [
    "submission_file = \"outputs/test/submission.csv\"\n",
    "save_prediction(model, test_dataloader, submission_file)"
   ]
  },
  {
   "cell_type": "code",
   "execution_count": null,
   "id": "5e7f2efd30d9c81",
   "metadata": {},
   "outputs": [],
   "source": [
    "df = pd.read_csv(submission_file)"
   ]
  },
  {
   "cell_type": "code",
   "execution_count": null,
   "id": "dab8416213942339",
   "metadata": {},
   "outputs": [],
   "source": [
    "!kaggle competitions submit -c dgl-2025-brain-graph-super-resolution-challenge -f outputs/test/submission.csv -m \"test\"\n"
   ]
  }
 ],
 "metadata": {
  "kernelspec": {
   "display_name": ".venv",
   "language": "python",
   "name": "python3"
  },
  "language_info": {
   "codemirror_mode": {
    "name": "ipython",
    "version": 3
   },
   "file_extension": ".py",
   "mimetype": "text/x-python",
   "name": "python",
   "nbconvert_exporter": "python",
   "pygments_lexer": "ipython3",
   "version": "3.12.3"
  }
 },
 "nbformat": 4,
 "nbformat_minor": 5
}
